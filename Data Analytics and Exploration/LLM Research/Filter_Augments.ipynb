{
 "metadata": {
  "orig_nbformat": 2,
  "kernelspec": {
   "name": "llms_env",
   "display_name": "LLMS Environment",
   "language": "python"
  }
 },
 "nbformat": 4,
 "nbformat_minor": 2,
 "cells": [
  {
   "source": [
    "This notebook will filter the LLM-generated augments to keep only those that contain letter a-z. The augments will also be deduplicated (within each combination of model_id and temperature)."
   ],
   "cell_type": "markdown",
   "metadata": {}
  },
  {
   "cell_type": "code",
   "execution_count": 2,
   "metadata": {},
   "outputs": [],
   "source": [
    "import pandas as pd \n",
    "import os"
   ]
  },
  {
   "cell_type": "code",
   "execution_count": 6,
   "metadata": {},
   "outputs": [],
   "source": [
    "# Load the data\n",
    "def load_data(train_idx):\n",
    "    augs_loc = os.path.join('data','stratified_data_splits',str(train_idx),'augments.csv')\n",
    "    df = pd.read_csv(augs_loc)\n",
    "    return df"
   ]
  },
  {
   "cell_type": "code",
   "execution_count": 10,
   "metadata": {},
   "outputs": [],
   "source": [
    "# Keep only the ones that use the most recent prompt\n",
    "def filter_to_most_recent_prompt(df):\n",
    "    return df = df[df.prompt.str.startswith('### Instruction:\\nHere are two lists of short')]"
   ]
  },
  {
   "cell_type": "code",
   "execution_count": 14,
   "metadata": {},
   "outputs": [],
   "source": [
    "# Keep only the rows where the text contains a letter a-z\n",
    "def keep_only_text_with_letter(df):\n",
    "    # TODO\n",
    "    return df"
   ]
  },
  {
   "cell_type": "code",
   "execution_count": 15,
   "metadata": {},
   "outputs": [],
   "source": [
    "# Deduplicate text within each combo of model_id and temperature\n",
    "# I.e. when there are multiple rows for a single model_id and temperature with the same text, \n",
    "# keep only one such row\n",
    "def deduplicate_wrt_text(df):\n",
    "    # TODO\n",
    "    return df"
   ]
  },
  {
   "cell_type": "code",
   "execution_count": 16,
   "metadata": {},
   "outputs": [],
   "source": [
    "# Do some sanity checks\n",
    "def sanity_check(df):\n",
    "    if df.shape[0] < 100:\n",
    "        raise Exception\n",
    "    if len(df.model_id.unique()) < 4:\n",
    "        raise Exception"
   ]
  },
  {
   "cell_type": "code",
   "execution_count": 17,
   "metadata": {},
   "outputs": [],
   "source": [
    "# Save filtered data\n",
    "def save_data(train_idx, df):\n",
    "    augs_loc = os.path.join('data','stratified_data_splits',str(train_idx),'augments.csv')\n",
    "    df.to_csv(augs_loc, index=False)"
   ]
  },
  {
   "cell_type": "code",
   "execution_count": 18,
   "metadata": {},
   "outputs": [
    {
     "output_type": "stream",
     "name": "stdout",
     "text": [
      "1\n2\n3\n4\n"
     ]
    }
   ],
   "source": [
    "# Loop through the training folds\n",
    "for train_idx in range(1,5):\n",
    "    \n",
    "    df = load_data(train_idx)\n",
    "\n",
    "    df = filter_to_most_recent_prompt(df)\n",
    "\n",
    "    df = keep_only_text_with_letter(df)\n",
    "\n",
    "    df = deduplicate_wrt_text(df)\n",
    "\n",
    "    sanity_check(df)\n",
    "\n",
    "    save_data(train_idx, df)"
   ]
  }
 ]
}