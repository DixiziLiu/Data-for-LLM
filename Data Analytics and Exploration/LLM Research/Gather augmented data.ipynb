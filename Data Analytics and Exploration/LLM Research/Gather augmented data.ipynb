{
 "cells": [
  {
   "cell_type": "markdown",
   "id": "1cbce1ed-0d30-467f-9934-dce0bc87b6c3",
   "metadata": {},
   "source": [
    "This notebook is for developing the code that will be used to produce LLM data augments for the RETIPS data, using a variety of LLMs.\n",
    "\n",
    "The data has been split (in another notebook) into four train/test folds, so that we can test augments that were produced using real RETIPS examples that are not included in the test set. Each train/test fold, each LLM will be used to create a large number of augments.\n",
    "\n",
    "This notebook is for developing that code; once it is developed, it should be put into a .py script so that it can be run on the Cluster without having a Jupyter session open."
   ]
  },
  {
   "cell_type": "code",
   "execution_count": 2,
   "id": "f3c242f9-7a5a-463b-938c-c59893eac367",
   "metadata": {},
   "outputs": [],
   "source": [
    "# Load libraries\n",
    "from utils.load_llm_model import prepare_to_load_model, load_model\n",
    "from utils.make_prompt import make_prompt\n",
    "from langchain import PromptTemplate\n",
    "import os\n",
    "import pandas as pd"
   ]
  },
  {
   "cell_type": "code",
   "execution_count": 2,
   "id": "d56a2062-40c2-4636-b68c-6632f5aff8c6",
   "metadata": {},
   "outputs": [],
   "source": [
    "# These will all need to be command-line arguments in the final script\n",
    "train_idx = 1 \n",
    "model_id = 'nomic-ai/gpt4all-13b-snoozy' \n",
    "username = 'cehrett'\n",
    "temperature = 1 \n",
    "top_p = 0.95\n",
    "max_new_tokens = 60\n",
    "max_length = 2048\n",
    "num_beams = 5\n",
    "num_beam_groups = 5\n",
    "repetition_penalty = 1\n",
    "num_return_sequences = 5\n",
    "do_sample=True"
   ]
  },
  {
   "cell_type": "code",
   "execution_count": 3,
   "id": "0f623a2f-f962-4137-a686-dacdfdc19a31",
   "metadata": {},
   "outputs": [],
   "source": [
    "# load training data\n",
    "train_loc = os.path.join('data','stratified_data_splits',str(train_idx),'train.csv')\n",
    "train = pd.read_csv(train_loc)"
   ]
  },
  {
   "cell_type": "code",
   "execution_count": 4,
   "id": "2baeeee5-be1c-4737-9b30-2beb9d807af7",
   "metadata": {},
   "outputs": [
    {
     "name": "stdout",
     "output_type": "stream",
     "text": [
      "Okay, using /scratch/cehrett/hf_cache for huggingface cache. Models will be stored there.\n",
      "Huggingface API key loaded.\n"
     ]
    }
   ],
   "source": [
    "# This function will set up our apikeys and cache directory correctly for loading the models from HF\n",
    "\n",
    "prepare_to_load_model(username)"
   ]
  },
  {
   "cell_type": "code",
   "execution_count": 5,
   "id": "4ccbcd4e-aa90-4377-bc4d-542913de989c",
   "metadata": {},
   "outputs": [
    {
     "name": "stdout",
     "output_type": "stream",
     "text": [
      "HF cache: /scratch/cehrett/hf_cache/\n",
      "Loading tokenizer\n",
      "Loading model\n"
     ]
    },
    {
     "name": "stderr",
     "output_type": "stream",
     "text": [
      "Overriding torch_dtype=None with `torch_dtype=torch.float16` due to requirements of `bitsandbytes` to enable model loading in mixed int8. Either pass torch_dtype=torch.float16 or don't pass this argument at all to remove this warning.\n"
     ]
    },
    {
     "name": "stdout",
     "output_type": "stream",
     "text": [
      "\n",
      "===================================BUG REPORT===================================\n",
      "Welcome to bitsandbytes. For bug reports, please run\n",
      "\n",
      "python -m bitsandbytes\n",
      "\n",
      " and submit this information together with your error trace to: https://github.com/TimDettmers/bitsandbytes/issues\n",
      "================================================================================\n",
      "bin /home/cehrett/.conda/envs/llms_env/lib/python3.10/site-packages/bitsandbytes/libbitsandbytes_cuda118.so\n",
      "CUDA_SETUP: WARNING! libcudart.so not found in any environmental path. Searching in backup paths...\n",
      "CUDA SETUP: CUDA runtime path found: /usr/local/cuda/lib64/libcudart.so\n",
      "CUDA SETUP: Highest compute capability among GPUs detected: 8.0\n",
      "CUDA SETUP: Detected CUDA version 118\n",
      "CUDA SETUP: Loading binary /home/cehrett/.conda/envs/llms_env/lib/python3.10/site-packages/bitsandbytes/libbitsandbytes_cuda118.so...\n"
     ]
    },
    {
     "name": "stderr",
     "output_type": "stream",
     "text": [
      "/home/cehrett/.conda/envs/llms_env/lib/python3.10/site-packages/bitsandbytes/cuda_setup/main.py:145: UserWarning: WARNING: The following directories listed in your path were found to be non-existent: {PosixPath('/usr/local/nvidia/lib'), PosixPath('/usr/local/nvidia/lib64')}\n",
      "  warn(msg)\n",
      "/home/cehrett/.conda/envs/llms_env/lib/python3.10/site-packages/bitsandbytes/cuda_setup/main.py:145: UserWarning: /usr/local/nvidia/lib:/usr/local/nvidia/lib64:/.singularity.d/libs did not contain ['libcudart.so', 'libcudart.so.11.0', 'libcudart.so.12.0'] as expected! Searching further paths...\n",
      "  warn(msg)\n",
      "/home/cehrett/.conda/envs/llms_env/lib/python3.10/site-packages/bitsandbytes/cuda_setup/main.py:145: UserWarning: WARNING: The following directories listed in your path were found to be non-existent: {PosixPath('/software/spackages/linux-rocky8-x86_64/gcc-9.5.0/anaconda3-2022.10-dtqfczcbv33ugxmsznhll4vjexdcxjfn/share/aclocal'), PosixPath('/software/spackages/linux-rocky8-x86_64/gcc-9.5.0/libxml2-2.9.13-6my53cs3ezjrffp6uflwnpoo4sq7kon2/share/aclocal')}\n",
      "  warn(msg)\n",
      "/home/cehrett/.conda/envs/llms_env/lib/python3.10/site-packages/bitsandbytes/cuda_setup/main.py:145: UserWarning: WARNING: The following directories listed in your path were found to be non-existent: {PosixPath('/home/cehrett,/local_scratch/pbs.717509.pbs02,/scratch/cehrett,/scratch1/cehrett')}\n",
      "  warn(msg)\n",
      "/home/cehrett/.conda/envs/llms_env/lib/python3.10/site-packages/bitsandbytes/cuda_setup/main.py:145: UserWarning: WARNING: The following directories listed in your path were found to be non-existent: {PosixPath('/.singularity.d/env/91-environment.sh')}\n",
      "  warn(msg)\n",
      "/home/cehrett/.conda/envs/llms_env/lib/python3.10/site-packages/bitsandbytes/cuda_setup/main.py:145: UserWarning: WARNING: The following directories listed in your path were found to be non-existent: {PosixPath('/usr/share/lmod/lmod/init/bash')}\n",
      "  warn(msg)\n",
      "/home/cehrett/.conda/envs/llms_env/lib/python3.10/site-packages/bitsandbytes/cuda_setup/main.py:145: UserWarning: WARNING: The following directories listed in your path were found to be non-existent: {PosixPath('() {  eval \"$($LMOD_DIR/ml_cmd \"$@\")\"\\n}')}\n",
      "  warn(msg)\n",
      "/home/cehrett/.conda/envs/llms_env/lib/python3.10/site-packages/bitsandbytes/cuda_setup/main.py:145: UserWarning: WARNING: The following directories listed in your path were found to be non-existent: {PosixPath('() {  ( alias;\\n eval ${which_declare} ) | /usr/bin/which --tty-only --read-alias --read-functions --show-tilde --show-dot $@\\n}')}\n",
      "  warn(msg)\n",
      "/home/cehrett/.conda/envs/llms_env/lib/python3.10/site-packages/bitsandbytes/cuda_setup/main.py:145: UserWarning: WARNING: The following directories listed in your path were found to be non-existent: {PosixPath('/software/spackages/linux-rocky8-x86_64/gcc-9.5.0/cudnn-8.1.0.77-11.2-o55zmcsaca6xrl5uyyaalmxt2nabqytf'), PosixPath('/software/spackages/linux-rocky8-x86_64/gcc-9.5.0/cuda-11.2.2-ud5pedf473of4in4vhulabsyve3snph4'), PosixPath('/software/spackages/linux-rocky8-x86_64/gcc-9.5.0/anaconda3-2022.10-dtqfczcbv33ugxmsznhll4vjexdcxjfn'), PosixPath('/software/spackages/linux-rocky8-x86_64/gcc-9.5.0/libxml2-2.9.13-6my53cs3ezjrffp6uflwnpoo4sq7kon2')}\n",
      "  warn(msg)\n",
      "/home/cehrett/.conda/envs/llms_env/lib/python3.10/site-packages/bitsandbytes/cuda_setup/main.py:145: UserWarning: WARNING: The following directories listed in your path were found to be non-existent: {PosixPath('/software/spackages/linux-rocky8-x86_64/gcc-9.5.0/cudnn-8.1.0.77-11.2-o55zmcsaca6xrl5uyyaalmxt2nabqytf/include'), PosixPath('/software/spackages/linux-rocky8-x86_64/gcc-9.5.0/anaconda3-2022.10-dtqfczcbv33ugxmsznhll4vjexdcxjfn/include'), PosixPath('/software/spackages/linux-rocky8-x86_64/gcc-9.5.0/libxml2-2.9.13-6my53cs3ezjrffp6uflwnpoo4sq7kon2/include'), PosixPath('/software/spackages/linux-rocky8-x86_64/gcc-9.5.0/cuda-11.2.2-ud5pedf473of4in4vhulabsyve3snph4/include')}\n",
      "  warn(msg)\n",
      "/home/cehrett/.conda/envs/llms_env/lib/python3.10/site-packages/bitsandbytes/cuda_setup/main.py:145: UserWarning: WARNING: The following directories listed in your path were found to be non-existent: {PosixPath('/software/spackages/linux-rocky8-x86_64/gcc-9.5.0/cuda-11.2.2-ud5pedf473of4in4vhulabsyve3snph4')}\n",
      "  warn(msg)\n",
      "/home/cehrett/.conda/envs/llms_env/lib/python3.10/site-packages/bitsandbytes/cuda_setup/main.py:145: UserWarning: WARNING: The following directories listed in your path were found to be non-existent: {PosixPath('/software/spackages/linux-rocky8-x86_64/gcc-9.5.0/cudnn-8.1.0.77-11.2-o55zmcsaca6xrl5uyyaalmxt2nabqytf')}\n",
      "  warn(msg)\n",
      "/home/cehrett/.conda/envs/llms_env/lib/python3.10/site-packages/bitsandbytes/cuda_setup/main.py:145: UserWarning: WARNING: The following directories listed in your path were found to be non-existent: {PosixPath('/software/spackages/linux-rocky8-x86_64/gcc-9.5.0/libxml2-2.9.13-6my53cs3ezjrffp6uflwnpoo4sq7kon2')}\n",
      "  warn(msg)\n",
      "/home/cehrett/.conda/envs/llms_env/lib/python3.10/site-packages/bitsandbytes/cuda_setup/main.py:145: UserWarning: WARNING: The following directories listed in your path were found to be non-existent: {PosixPath('/usr/share/lmod/lmod/libexec/lmod')}\n",
      "  warn(msg)\n",
      "/home/cehrett/.conda/envs/llms_env/lib/python3.10/site-packages/bitsandbytes/cuda_setup/main.py:145: UserWarning: WARNING: The following directories listed in your path were found to be non-existent: {PosixPath('/usr/share/lmod/lmod/libexec')}\n",
      "  warn(msg)\n",
      "/home/cehrett/.conda/envs/llms_env/lib/python3.10/site-packages/bitsandbytes/cuda_setup/main.py:145: UserWarning: WARNING: The following directories listed in your path were found to be non-existent: {PosixPath('/usr/share/lmod/lmod')}\n",
      "  warn(msg)\n",
      "/home/cehrett/.conda/envs/llms_env/lib/python3.10/site-packages/bitsandbytes/cuda_setup/main.py:145: UserWarning: WARNING: The following directories listed in your path were found to be non-existent: {PosixPath('/usr/share/lmod')}\n",
      "  warn(msg)\n",
      "/home/cehrett/.conda/envs/llms_env/lib/python3.10/site-packages/bitsandbytes/cuda_setup/main.py:145: UserWarning: WARNING: The following directories listed in your path were found to be non-existent: {PosixPath('cuda/11.2.2-gcc/9.5.0'), PosixPath('anaconda3/2022.10-gcc/9.5.0'), PosixPath('libxml2/2.9.13-gcc/9.5.0'), PosixPath('cudnn/8.1.0.77-11.2-gcc/9.5.0')}\n",
      "  warn(msg)\n",
      "/home/cehrett/.conda/envs/llms_env/lib/python3.10/site-packages/bitsandbytes/cuda_setup/main.py:145: UserWarning: WARNING: The following directories listed in your path were found to be non-existent: {PosixPath('/software/spackages/linux-rocky8-x86_64/gcc-9.5.0/anaconda3-2022.10-dtqfczcbv33ugxmsznhll4vjexdcxjfn/share/man'), PosixPath('/opt/pbs/default/man'), PosixPath('/usr/share/lmod/lmod/share/man'), PosixPath('/opt/puppetlabs/puppet/share/man'), PosixPath('/opt/pbs/default/share/man'), PosixPath('/software/spackages/linux-rocky8-x86_64/gcc-9.5.0/anaconda3-2022.10-dtqfczcbv33ugxmsznhll4vjexdcxjfn/man'), PosixPath('/software/spackages/linux-rocky8-x86_64/gcc-9.5.0/libxml2-2.9.13-6my53cs3ezjrffp6uflwnpoo4sq7kon2/share/man')}\n",
      "  warn(msg)\n",
      "/home/cehrett/.conda/envs/llms_env/lib/python3.10/site-packages/bitsandbytes/cuda_setup/main.py:145: UserWarning: WARNING: The following directories listed in your path were found to be non-existent: {PosixPath('/software/ModuleFiles/modules/linux-rocky8-x86_64'), PosixPath('/software/AltModFiles'), PosixPath('/etc/modulefiles'), PosixPath('/usr/share/modulefiles')}\n",
      "  warn(msg)\n",
      "/home/cehrett/.conda/envs/llms_env/lib/python3.10/site-packages/bitsandbytes/cuda_setup/main.py:145: UserWarning: WARNING: The following directories listed in your path were found to be non-existent: {PosixPath('/usr/share/modulefiles')}\n",
      "  warn(msg)\n",
      "/home/cehrett/.conda/envs/llms_env/lib/python3.10/site-packages/bitsandbytes/cuda_setup/main.py:145: UserWarning: WARNING: The following directories listed in your path were found to be non-existent: {PosixPath('/var/spool/pbs/aux/717509.pbs02')}\n",
      "  warn(msg)\n",
      "/home/cehrett/.conda/envs/llms_env/lib/python3.10/site-packages/bitsandbytes/cuda_setup/main.py:145: UserWarning: WARNING: The following directories listed in your path were found to be non-existent: {PosixPath('/var/spool/mail/cehrett')}\n",
      "  warn(msg)\n",
      "/home/cehrett/.conda/envs/llms_env/lib/python3.10/site-packages/bitsandbytes/cuda_setup/main.py:145: UserWarning: WARNING: The following directories listed in your path were found to be non-existent: {PosixPath('/home/cehrett/bin'), PosixPath('/opt/pbs/default/bin'), PosixPath('/opt/puppetlabs/bin')}\n",
      "  warn(msg)\n",
      "/home/cehrett/.conda/envs/llms_env/lib/python3.10/site-packages/bitsandbytes/cuda_setup/main.py:145: UserWarning: WARNING: The following directories listed in your path were found to be non-existent: {PosixPath('America/New_York')}\n",
      "  warn(msg)\n",
      "/home/cehrett/.conda/envs/llms_env/lib/python3.10/site-packages/bitsandbytes/cuda_setup/main.py:145: UserWarning: WARNING: The following directories listed in your path were found to be non-existent: {PosixPath('/software/spackages/linux-rocky8-x86_64/gcc-9.5.0/libxml2-2.9.13-6my53cs3ezjrffp6uflwnpoo4sq7kon2/lib/pkgconfig'), PosixPath('/software/spackages/linux-rocky8-x86_64/gcc-9.5.0/anaconda3-2022.10-dtqfczcbv33ugxmsznhll4vjexdcxjfn/lib/pkgconfig')}\n",
      "  warn(msg)\n",
      "/home/cehrett/.conda/envs/llms_env/lib/python3.10/site-packages/bitsandbytes/cuda_setup/main.py:145: UserWarning: WARNING: The following directories listed in your path were found to be non-existent: {PosixPath('/usr/libexec/openssh/gnome-ssh-askpass')}\n",
      "  warn(msg)\n",
      "/home/cehrett/.conda/envs/llms_env/lib/python3.10/site-packages/bitsandbytes/cuda_setup/main.py:145: UserWarning: WARNING: The following directories listed in your path were found to be non-existent: {PosixPath('/software/spackages/linux-rocky8-x86_64/gcc-9.5.0/anaconda3-2022.10-dtqfczcbv33ugxmsznhll4vjexdcxjfn/condabin'), PosixPath('/opt/dell/srvadmin/bin'), PosixPath('/opt/pbs/default/bin'), PosixPath('/opt/pbs/default/sbin'), PosixPath('/software/spackages/linux-rocky8-x86_64/gcc-9.5.0/cuda-11.2.2-ud5pedf473of4in4vhulabsyve3snph4/bin'), PosixPath('/software/spackages/linux-rocky8-x86_64/gcc-9.5.0/libxml2-2.9.13-6my53cs3ezjrffp6uflwnpoo4sq7kon2/bin'), PosixPath('/home/cehrett/bin'), PosixPath('/opt/puppetlabs/bin'), PosixPath('/software/spackages/linux-rocky8-x86_64/gcc-9.5.0/anaconda3-2022.10-dtqfczcbv33ugxmsznhll4vjexdcxjfn/bin')}\n",
      "  warn(msg)\n",
      "/home/cehrett/.conda/envs/llms_env/lib/python3.10/site-packages/bitsandbytes/cuda_setup/main.py:145: UserWarning: WARNING: The following directories listed in your path were found to be non-existent: {PosixPath('/software/ModuleFiles/modules/linux-rocky8-x86_64/cuda/11.2.2-gcc/9.5.0'), PosixPath('/software/ModuleFiles/modules/linux-rocky8-x86_64/anaconda3/2022.10-gcc/9.5.0'), PosixPath('/software/ModuleFiles/modules/linux-rocky8-x86_64/cudnn/8.1.0.77-11.2-gcc/9.5.0'), PosixPath('/software/ModuleFiles/modules/linux-rocky8-x86_64/libxml2/2.9.13-gcc/9.5.0')}\n",
      "  warn(msg)\n",
      "/home/cehrett/.conda/envs/llms_env/lib/python3.10/site-packages/bitsandbytes/cuda_setup/main.py:145: UserWarning: WARNING: The following directories listed in your path were found to be non-existent: {PosixPath('1;/software/spackages/linux-rocky8-x86_64/gcc-9.5.0/anaconda3-2022.10-dtqfczcbv33ugxmsznhll4vjexdcxjfn/share/aclocal'), PosixPath('1'), PosixPath('/software/spackages/linux-rocky8-x86_64/gcc-9.5.0/libxml2-2.9.13-6my53cs3ezjrffp6uflwnpoo4sq7kon2/share/aclocal')}\n",
      "  warn(msg)\n",
      "/home/cehrett/.conda/envs/llms_env/lib/python3.10/site-packages/bitsandbytes/cuda_setup/main.py:145: UserWarning: WARNING: The following directories listed in your path were found to be non-existent: {PosixPath('/software/spackages/linux-rocky8-x86_64/gcc-9.5.0/cudnn-8.1.0.77-11.2-o55zmcsaca6xrl5uyyaalmxt2nabqytf'), PosixPath('1;/software/spackages/linux-rocky8-x86_64/gcc-9.5.0/libxml2-2.9.13-6my53cs3ezjrffp6uflwnpoo4sq7kon2'), PosixPath('1;/software/spackages/linux-rocky8-x86_64/gcc-9.5.0/anaconda3-2022.10-dtqfczcbv33ugxmsznhll4vjexdcxjfn'), PosixPath('1'), PosixPath('1;/software/spackages/linux-rocky8-x86_64/gcc-9.5.0/cuda-11.2.2-ud5pedf473of4in4vhulabsyve3snph4')}\n",
      "  warn(msg)\n",
      "/home/cehrett/.conda/envs/llms_env/lib/python3.10/site-packages/bitsandbytes/cuda_setup/main.py:145: UserWarning: WARNING: The following directories listed in your path were found to be non-existent: {PosixPath('1;/software/spackages/linux-rocky8-x86_64/gcc-9.5.0/libxml2-2.9.13-6my53cs3ezjrffp6uflwnpoo4sq7kon2/include'), PosixPath('1;/software/spackages/linux-rocky8-x86_64/gcc-9.5.0/cuda-11.2.2-ud5pedf473of4in4vhulabsyve3snph4/include'), PosixPath('/software/spackages/linux-rocky8-x86_64/gcc-9.5.0/cudnn-8.1.0.77-11.2-o55zmcsaca6xrl5uyyaalmxt2nabqytf/include'), PosixPath('1'), PosixPath('1;/software/spackages/linux-rocky8-x86_64/gcc-9.5.0/anaconda3-2022.10-dtqfczcbv33ugxmsznhll4vjexdcxjfn/include')}\n",
      "  warn(msg)\n",
      "/home/cehrett/.conda/envs/llms_env/lib/python3.10/site-packages/bitsandbytes/cuda_setup/main.py:145: UserWarning: WARNING: The following directories listed in your path were found to be non-existent: {PosixPath('1;/software/spackages/linux-rocky8-x86_64/gcc-9.5.0/anaconda3-2022.10-dtqfczcbv33ugxmsznhll4vjexdcxjfn/lib'), PosixPath('1;/software/spackages/linux-rocky8-x86_64/gcc-9.5.0/libxml2-2.9.13-6my53cs3ezjrffp6uflwnpoo4sq7kon2/lib'), PosixPath('1'), PosixPath('1;/software/spackages/linux-rocky8-x86_64/gcc-9.5.0/cuda-11.2.2-ud5pedf473of4in4vhulabsyve3snph4/lib64'), PosixPath('/software/spackages/linux-rocky8-x86_64/gcc-9.5.0/cudnn-8.1.0.77-11.2-o55zmcsaca6xrl5uyyaalmxt2nabqytf/lib64')}\n",
      "  warn(msg)\n",
      "/home/cehrett/.conda/envs/llms_env/lib/python3.10/site-packages/bitsandbytes/cuda_setup/main.py:145: UserWarning: WARNING: The following directories listed in your path were found to be non-existent: {PosixPath('1;/opt/pbs/default/share/man'), PosixPath('1;/opt/puppetlabs/puppet/share/man'), PosixPath('1;/opt/pbs/default/man'), PosixPath('1;/software/spackages/linux-rocky8-x86_64/gcc-9.5.0/anaconda3-2022.10-dtqfczcbv33ugxmsznhll4vjexdcxjfn/man'), PosixPath('1'), PosixPath('1;/usr/share/lmod/lmod/share/man'), PosixPath('1;/software/spackages/linux-rocky8-x86_64/gcc-9.5.0/anaconda3-2022.10-dtqfczcbv33ugxmsznhll4vjexdcxjfn/share/man'), PosixPath('/software/spackages/linux-rocky8-x86_64/gcc-9.5.0/libxml2-2.9.13-6my53cs3ezjrffp6uflwnpoo4sq7kon2/share/man')}\n",
      "  warn(msg)\n",
      "/home/cehrett/.conda/envs/llms_env/lib/python3.10/site-packages/bitsandbytes/cuda_setup/main.py:145: UserWarning: WARNING: The following directories listed in your path were found to be non-existent: {PosixPath('1;/software/AltModFiles'), PosixPath('1;/usr/share/modulefiles'), PosixPath('1;/software/ModuleFiles/modules/linux-rocky8-x86_64'), PosixPath('1'), PosixPath('/etc/modulefiles')}\n",
      "  warn(msg)\n",
      "/home/cehrett/.conda/envs/llms_env/lib/python3.10/site-packages/bitsandbytes/cuda_setup/main.py:145: UserWarning: WARNING: The following directories listed in your path were found to be non-existent: {PosixPath('1;/software/spackages/linux-rocky8-x86_64/gcc-9.5.0/anaconda3-2022.10-dtqfczcbv33ugxmsznhll4vjexdcxjfn/condabin'), PosixPath('1;/usr/bin/X11'), PosixPath('1;/bin'), PosixPath('1;/opt/puppetlabs/bin'), PosixPath('1;/usr/bin'), PosixPath('1;/usr/local/sbin'), PosixPath('1;/opt/dell/srvadmin/bin'), PosixPath('1;/home/cehrett/bin'), PosixPath('1;/opt/pbs/default/sbin'), PosixPath('1;/software/spackages/linux-rocky8-x86_64/gcc-9.5.0/libxml2-2.9.13-6my53cs3ezjrffp6uflwnpoo4sq7kon2/bin'), PosixPath('1'), PosixPath('1;/home/cehrett/.local/bin'), PosixPath('1;/usr/sbin'), PosixPath('/software/spackages/linux-rocky8-x86_64/gcc-9.5.0/cuda-11.2.2-ud5pedf473of4in4vhulabsyve3snph4/bin'), PosixPath('1;/opt/pbs/default/bin'), PosixPath('1;/software/spackages/linux-rocky8-x86_64/gcc-9.5.0/anaconda3-2022.10-dtqfczcbv33ugxmsznhll4vjexdcxjfn/bin')}\n",
      "  warn(msg)\n",
      "/home/cehrett/.conda/envs/llms_env/lib/python3.10/site-packages/bitsandbytes/cuda_setup/main.py:145: UserWarning: WARNING: The following directories listed in your path were found to be non-existent: {PosixPath('/software/spackages/linux-rocky8-x86_64/gcc-9.5.0/libxml2-2.9.13-6my53cs3ezjrffp6uflwnpoo4sq7kon2/lib/pkgconfig'), PosixPath('1'), PosixPath('1;/software/spackages/linux-rocky8-x86_64/gcc-9.5.0/anaconda3-2022.10-dtqfczcbv33ugxmsznhll4vjexdcxjfn/lib/pkgconfig')}\n",
      "  warn(msg)\n",
      "/home/cehrett/.conda/envs/llms_env/lib/python3.10/site-packages/bitsandbytes/cuda_setup/main.py:145: UserWarning: WARNING: The following directories listed in your path were found to be non-existent: {PosixPath('//matplotlib_inline.backend_inline'), PosixPath('module')}\n",
      "  warn(msg)\n",
      "/home/cehrett/.conda/envs/llms_env/lib/python3.10/site-packages/bitsandbytes/cuda_setup/main.py:145: UserWarning: Found duplicate ['libcudart.so', 'libcudart.so.11.0', 'libcudart.so.12.0'] files: {PosixPath('/usr/local/cuda/lib64/libcudart.so'), PosixPath('/usr/local/cuda/lib64/libcudart.so.11.0')}.. We'll flip a coin and try one of these, in order to fail forward.\n",
      "Either way, this might cause trouble in the future:\n",
      "If you get `CUDA error: invalid device function` errors, the above might be the cause and the solution is to make sure only one ['libcudart.so', 'libcudart.so.11.0', 'libcudart.so.12.0'] in the paths that we search based on your env.\n",
      "  warn(msg)\n"
     ]
    },
    {
     "data": {
      "application/vnd.jupyter.widget-view+json": {
       "model_id": "5d379798709248618f4b55cf5756f398",
       "version_major": 2,
       "version_minor": 0
      },
      "text/plain": [
       "Loading checkpoint shards:   0%|          | 0/6 [00:00<?, ?it/s]"
      ]
     },
     "metadata": {},
     "output_type": "display_data"
    },
    {
     "name": "stdout",
     "output_type": "stream",
     "text": [
      "Instantiating pipeline\n"
     ]
    }
   ],
   "source": [
    "model = load_model(model_id, \n",
    "                   temperature=temperature, \n",
    "                   top_p=top_p, \n",
    "                   max_length=max_length,\n",
    "                   max_new_tokens=max_new_tokens, \n",
    "                   num_beams=num_beams,\n",
    "                   num_beam_groups=num_beam_groups,\n",
    "                   repetition_penalty=repetition_penalty,\n",
    "                   num_return_sequences=num_return_sequences,\n",
    "                   do_sample=do_sample\n",
    "                  )"
   ]
  },
  {
   "cell_type": "code",
   "execution_count": 6,
   "id": "a36e6f92-2fa9-4223-80bd-cbc5e064e51b",
   "metadata": {},
   "outputs": [
    {
     "ename": "NameError",
     "evalue": "name 'PromptTemplate' is not defined",
     "output_type": "error",
     "traceback": [
      "\u001b[0;31m---------------------------------------------------------------------------\u001b[0m",
      "\u001b[0;31mNameError\u001b[0m                                 Traceback (most recent call last)",
      "Cell \u001b[0;32mIn[6], line 11\u001b[0m\n\u001b[1;32m      6\u001b[0m count \u001b[38;5;241m=\u001b[39m \u001b[38;5;241m0\u001b[39m \n\u001b[1;32m      8\u001b[0m \u001b[38;5;28;01mwhile\u001b[39;00m \u001b[38;5;28;01mTrue\u001b[39;00m:\n\u001b[1;32m      9\u001b[0m     \n\u001b[1;32m     10\u001b[0m     \u001b[38;5;66;03m# Get new augments\u001b[39;00m\n\u001b[0;32m---> 11\u001b[0m     new_prompts_and_augs \u001b[38;5;241m=\u001b[39m \u001b[43mmake_prompt\u001b[49m\u001b[43m(\u001b[49m\u001b[43mn_in\u001b[49m\u001b[38;5;241;43m=\u001b[39;49m\u001b[38;5;241;43m5\u001b[39;49m\u001b[43m,\u001b[49m\u001b[43m \u001b[49m\u001b[43mdata\u001b[49m\u001b[38;5;241;43m=\u001b[39;49m\u001b[43mtrain\u001b[49m\u001b[43m)\u001b[49m\n\u001b[1;32m     12\u001b[0m     \u001b[38;5;28;01mfor\u001b[39;00m category \u001b[38;5;129;01min\u001b[39;00m categories:\n\u001b[1;32m     13\u001b[0m         raw_new_augs \u001b[38;5;241m=\u001b[39m model(new_prompts_and_augs[category][\u001b[38;5;124m'\u001b[39m\u001b[38;5;124mprompt\u001b[39m\u001b[38;5;124m'\u001b[39m])\n",
      "File \u001b[0;32m~/Projects/RETIPS/DA_paper_repo/make_prompt.py:26\u001b[0m, in \u001b[0;36mmake_prompt\u001b[0;34m(n_in, data, template)\u001b[0m\n\u001b[1;32m     23\u001b[0m \u001b[38;5;28;01mfor\u001b[39;00m i,ex \u001b[38;5;129;01min\u001b[39;00m \u001b[38;5;28menumerate\u001b[39m(resource_examples): resource_example_text \u001b[38;5;241m+\u001b[39m\u001b[38;5;241m=\u001b[39m \u001b[38;5;124mf\u001b[39m\u001b[38;5;124m'\u001b[39m\u001b[38;5;130;01m\\n\u001b[39;00m\u001b[38;5;132;01m{\u001b[39;00mi\u001b[38;5;241m+\u001b[39m\u001b[38;5;241m1\u001b[39m\u001b[38;5;132;01m}\u001b[39;00m\u001b[38;5;124m. \u001b[39m\u001b[38;5;132;01m{\u001b[39;00mex\u001b[38;5;132;01m}\u001b[39;00m\u001b[38;5;124m'\u001b[39m\n\u001b[1;32m     25\u001b[0m \u001b[38;5;66;03m# Construct the final prompt\u001b[39;00m\n\u001b[0;32m---> 26\u001b[0m prompt_template \u001b[38;5;241m=\u001b[39m \u001b[43mPromptTemplate\u001b[49m(template\u001b[38;5;241m=\u001b[39mtemplate, \n\u001b[1;32m     27\u001b[0m                                  input_variables\u001b[38;5;241m=\u001b[39m[\u001b[38;5;124m\"\u001b[39m\u001b[38;5;124mcategory\u001b[39m\u001b[38;5;124m\"\u001b[39m, \n\u001b[1;32m     28\u001b[0m                                                   \u001b[38;5;124m\"\u001b[39m\u001b[38;5;124mother_category\u001b[39m\u001b[38;5;124m\"\u001b[39m,\n\u001b[1;32m     29\u001b[0m                                                   \u001b[38;5;124m\"\u001b[39m\u001b[38;5;124mcategory_examples\u001b[39m\u001b[38;5;124m\"\u001b[39m, \n\u001b[1;32m     30\u001b[0m                                                   \u001b[38;5;124m\"\u001b[39m\u001b[38;5;124mother_category_examples\u001b[39m\u001b[38;5;124m\"\u001b[39m])\n\u001b[1;32m     32\u001b[0m \u001b[38;5;66;03m# Integrate randomly selected data points into prompt templates for each category\u001b[39;00m\n\u001b[1;32m     33\u001b[0m res_prompt_input_dict \u001b[38;5;241m=\u001b[39m {\u001b[38;5;124m'\u001b[39m\u001b[38;5;124mcategory\u001b[39m\u001b[38;5;124m'\u001b[39m:\u001b[38;5;124m'\u001b[39m\u001b[38;5;124mResource-related\u001b[39m\u001b[38;5;124m'\u001b[39m,\n\u001b[1;32m     34\u001b[0m                          \u001b[38;5;124m'\u001b[39m\u001b[38;5;124mother_category\u001b[39m\u001b[38;5;124m'\u001b[39m:\u001b[38;5;124m'\u001b[39m\u001b[38;5;124mNon-resource-related\u001b[39m\u001b[38;5;124m'\u001b[39m,\n\u001b[1;32m     35\u001b[0m                          \u001b[38;5;124m'\u001b[39m\u001b[38;5;124mcategory_examples\u001b[39m\u001b[38;5;124m'\u001b[39m:resource_example_text,\n\u001b[1;32m     36\u001b[0m                          \u001b[38;5;124m'\u001b[39m\u001b[38;5;124mother_category_examples\u001b[39m\u001b[38;5;124m'\u001b[39m:non_resource_example_text}\n",
      "\u001b[0;31mNameError\u001b[0m: name 'PromptTemplate' is not defined"
     ]
    }
   ],
   "source": [
    "# Create data on a loop\n",
    "\n",
    "# Initialize some variables that will help us run the loop smoothly\n",
    "categories = ['Resource-related', 'Non-resource-related']\n",
    "resource_labels = {'Resource-related':1, 'Non-resource-related':0}\n",
    "count = 0 \n",
    "\n",
    "while True:\n",
    "    \n",
    "    # Get new augments\n",
    "    new_prompts_and_augs = make_prompt(n_in=5, data=train)\n",
    "    for category in categories:\n",
    "        raw_new_augs = model(new_prompts_and_augs[category]['prompt'])\n",
    "        new_augs = [aug['generated_text'][len(new_prompts_and_augs[category]['prompt']):].split('\\n2.')[0].strip('\\n\\'\" \\t') for aug in raw_new_augs]\n",
    "        new_prompts_and_augs[category]['augments'] = new_augs\n",
    "    \n",
    "    # Get path in which augments are stored\n",
    "    augs_path = os.path.join('data','stratified_data_splits',str(train_idx),'augments.csv')\n",
    "    \n",
    "    # Load existing augments\n",
    "    try:\n",
    "        augs_df = pd.read_csv(augs_path)\n",
    "    except FileNotFoundError: # If these are the first augs\n",
    "        augs_df = pd.DataFrame()\n",
    "    \n",
    "    # Prepare new augments in df with other relevant metadata\n",
    "    for category in categories:\n",
    "        new_prompts_and_augs[category]['new_augs_df'] = pd.DataFrame({'text':new_prompts_and_augs[category]['augments'],\n",
    "                                                                      'model_id':model_id,\n",
    "                                                                      'temperature':temperature,\n",
    "                                                                      'top_p':top_p,\n",
    "                                                                      'max_new_tokens':max_new_tokens,\n",
    "                                                                      'max_length':max_length,\n",
    "                                                                      'num_beams':num_beams,\n",
    "                                                                      'num_beam_groups':num_beam_groups,\n",
    "                                                                      'repetition_penalty':repetition_penalty,\n",
    "                                                                      'do_sample':do_sample,\n",
    "                                                                      'num_return_sequences':num_return_sequences,\n",
    "                                                                      'prompt':new_prompts_and_augs[category]['prompt'],\n",
    "                                                                      'resources':resource_labels[category]\n",
    "                                                                     })\n",
    "        \n",
    "    \n",
    "    # Add new augments df to the existing augments\n",
    "    combined_augs_df = pd.concat([augs_df,\n",
    "                                 new_prompts_and_augs['Resource-related']['new_augs_df'],\n",
    "                                 new_prompts_and_augs['Non-resource-related']['new_augs_df']])\n",
    "    combined_augs_df.reset_index(drop=True, inplace=True)\n",
    "                                   \n",
    "    # Save the newly increased set of augments\n",
    "    combined_augs_df.to_csv(augs_path, index=False)\n",
    "                                                                     \n",
    "    # Output an update\n",
    "    count += 1\n",
    "    print(f'Total new augments created so far for each category: {count * num_return_sequences}')\n",
    "    "
   ]
  },
  {
   "cell_type": "code",
   "execution_count": null,
   "id": "c9837df3-8361-4cb6-9e9f-12326d3a8781",
   "metadata": {},
   "outputs": [],
   "source": []
  }
 ],
 "metadata": {
  "kernelspec": {
   "display_name": "LLMS Environment",
   "language": "python",
   "name": "llms_env"
  },
  "language_info": {
   "codemirror_mode": {
    "name": "ipython",
    "version": 3
   },
   "file_extension": ".py",
   "mimetype": "text/x-python",
   "name": "python",
   "nbconvert_exporter": "python",
   "pygments_lexer": "ipython3",
   "version": "3.10.11"
  }
 },
 "nbformat": 4,
 "nbformat_minor": 5
}
