{
 "cells": [
  {
   "cell_type": "markdown",
   "id": "12faa0f7-9e28-4c07-b3c5-c96a9be53d45",
   "metadata": {},
   "source": [
    "This notebook splits the RETIPS data into four stratified train/test folds (stratified with respect to the Resources label), so that we can test models that are trained using augments that were created without the use of the data in the test set."
   ]
  },
  {
   "cell_type": "code",
   "execution_count": 35,
   "id": "5100fffe-812c-4349-9a18-1b26ec5849e7",
   "metadata": {},
   "outputs": [
    {
     "ename": "ValueError",
     "evalue": "This notebook has already been used to create the stratified data splits; it should not be necessary to run it again.",
     "output_type": "error",
     "traceback": [
      "\u001b[0;31m---------------------------------------------------------------------------\u001b[0m",
      "\u001b[0;31mValueError\u001b[0m                                Traceback (most recent call last)",
      "Cell \u001b[0;32mIn[35], line 3\u001b[0m\n\u001b[1;32m      1\u001b[0m \u001b[38;5;66;03m# Import libraries\u001b[39;00m\n\u001b[0;32m----> 3\u001b[0m \u001b[38;5;28;01mraise\u001b[39;00m \u001b[38;5;167;01mValueError\u001b[39;00m(\u001b[38;5;124m\"\u001b[39m\u001b[38;5;124mThis notebook has already been used to create the stratified data splits; it should not be necessary to run it again.\u001b[39m\u001b[38;5;124m\"\u001b[39m)\n\u001b[1;32m      6\u001b[0m \u001b[38;5;28;01mimport\u001b[39;00m \u001b[38;5;21;01mpandas\u001b[39;00m \u001b[38;5;28;01mas\u001b[39;00m \u001b[38;5;21;01mpd\u001b[39;00m\n\u001b[1;32m      7\u001b[0m \u001b[38;5;28;01mimport\u001b[39;00m \u001b[38;5;21;01mos\u001b[39;00m\n",
      "\u001b[0;31mValueError\u001b[0m: This notebook has already been used to create the stratified data splits; it should not be necessary to run it again."
     ]
    }
   ],
   "source": [
    "# Import libraries\n",
    "\n",
    "raise ValueError(\"This notebook has already been used to create the stratified data splits; it should not be necessary to run it again.\")\n",
    "\n",
    "\n",
    "import pandas as pd\n",
    "import os\n",
    "from sklearn.model_selection import StratifiedKFold"
   ]
  },
  {
   "cell_type": "code",
   "execution_count": 17,
   "id": "2e7a5075-5d8b-41b6-822d-10bf9c0e7152",
   "metadata": {},
   "outputs": [],
   "source": [
    "# Load RETIPS data\n",
    "df = pd.read_csv(os.path.join('data','retips.csv'), index_col=0)\n",
    "\n",
    "# Narrow to only the columns we are interested in\n",
    "res_col = 'Availability of Resources OR Knowing where to find resources OR Resources'\n",
    "cols_to_keep = ['Question', 'Response', res_col]\n",
    "df = df[cols_to_keep]\n",
    "\n",
    "# Rename the label column\n",
    "df = df.rename({res_col:'label'},axis=1)\n",
    "\n",
    "# Drop rows with empty answer\n",
    "df = df.dropna(subset='Response')\n",
    "\n",
    "# Replace the labels with numeric values\n",
    "df['label'], labels = pd.factorize(df['label'])\n",
    "num_labels = len(df.label.unique())"
   ]
  },
  {
   "cell_type": "code",
   "execution_count": 18,
   "id": "5a680ef6-ddef-40d6-9801-e1fe90c1e6ae",
   "metadata": {},
   "outputs": [],
   "source": [
    "# Get stratified train/test folds of the data\n",
    "\n",
    "def split_data(df, n_splits=4):\n",
    "    \"\"\"\n",
    "    Splits the data into stratified train/test folds based on the 'label' column.\n",
    "\n",
    "    Args:\n",
    "        df (pd.DataFrame): The DataFrame containing the data.\n",
    "        n_splits (int, optional): The number of folds to create. Defaults to 4.\n",
    "\n",
    "    Returns:\n",
    "        list of tuples: A list of tuples containing the train and test indices for each fold.\n",
    "    \"\"\"\n",
    "\n",
    "    # Get the features and target variable\n",
    "    X = df.drop('label', axis=1)\n",
    "    y = df['label']\n",
    "\n",
    "    # Initialize the stratified k-fold splitter\n",
    "    stratified_kfold = StratifiedKFold(n_splits=n_splits)\n",
    "\n",
    "    # Split the data into train/test folds\n",
    "    folds = []\n",
    "    for train_index, test_index in stratified_kfold.split(X, y):\n",
    "        folds.append((train_index, test_index))\n",
    "\n",
    "    return folds\n",
    "\n",
    "folds = split_data(df)"
   ]
  },
  {
   "cell_type": "code",
   "execution_count": 34,
   "id": "8c9a7e7f-ccd4-4c83-8761-7f017117f7d2",
   "metadata": {},
   "outputs": [
    {
     "name": "stdout",
     "output_type": "stream",
     "text": [
      "Directory created at data/stratified_data_splits/1.\n",
      "Fold 1: Train samples: 136, Test samples: 46\n",
      "Directory created at data/stratified_data_splits/2.\n",
      "Fold 2: Train samples: 136, Test samples: 46\n",
      "Directory created at data/stratified_data_splits/3.\n",
      "Fold 3: Train samples: 137, Test samples: 45\n",
      "Directory created at data/stratified_data_splits/4.\n",
      "Fold 4: Train samples: 137, Test samples: 45\n"
     ]
    }
   ],
   "source": [
    "# Use split_data to get and save the splits\n",
    "\n",
    "# Get the train/test folds\n",
    "folds = split_data(df, n_splits=4)\n",
    "\n",
    "# Iterate over the folds\n",
    "for fold, (train_index, test_index) in enumerate(folds):\n",
    "    # Split the data into train and test subsets\n",
    "    train_data = df.iloc[train_index]\n",
    "    test_data = df.iloc[test_index]\n",
    "\n",
    "    save_path = os.path.join('data','stratified_data_splits',str(fold+1))\n",
    "    if not os.path.exists(save_path):\n",
    "        os.makedirs(save_path)\n",
    "        print(f'Directory created at {save_path}.')\n",
    "    train_data.to_csv(os.path.join(save_path,'train.csv'), index=False)\n",
    "    test_data.to_csv(os.path.join(save_path,'test.csv'), index=False)\n",
    "\n",
    "    # Print the fold number and the number of samples in the train/test subsets\n",
    "    print(f\"Fold {fold+1}: Train samples: {len(train_data)}, Test samples: {len(test_data)}\")\n",
    "    "
   ]
  },
  {
   "cell_type": "code",
   "execution_count": null,
   "id": "da3e0399-c564-4d17-8d7a-aff571dcfa85",
   "metadata": {},
   "outputs": [],
   "source": []
  }
 ],
 "metadata": {
  "kernelspec": {
   "display_name": "LLMS Environment",
   "language": "python",
   "name": "llms_env"
  },
  "language_info": {
   "codemirror_mode": {
    "name": "ipython",
    "version": 3
   },
   "file_extension": ".py",
   "mimetype": "text/x-python",
   "name": "python",
   "nbconvert_exporter": "python",
   "pygments_lexer": "ipython3",
   "version": "3.10.11"
  }
 },
 "nbformat": 4,
 "nbformat_minor": 5
}
